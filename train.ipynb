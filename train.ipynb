{
 "cells": [
  {
   "cell_type": "code",
   "execution_count": 1,
   "metadata": {},
   "outputs": [],
   "source": [
    "import os\n",
    "import random\n",
    "\n",
    "import numpy as np\n",
    "import pandas as pd\n",
    "from sklearn.model_selection import train_test_split\n",
    "from sklearn.model_selection import KFold , StratifiedKFold\n",
    "from sklearn.metrics import confusion_matrix, f1_score, r2_score\n",
    "from sklearn.linear_model import LogisticRegression\n",
    "from sklearn.metrics import accuracy_score, classification_report\n",
    "from category_encoders.target_encoder import TargetEncoder\n",
    "from sklearn.preprocessing import LabelEncoder, StandardScaler, MinMaxScaler, RobustScaler\n",
    "import statsmodels.api as sm\n",
    "# from sklearn.metrics import r2_score\n",
    "\n",
    "def seed_everything(seed):\n",
    "    random.seed(seed)\n",
    "    os.environ[\"PYTHONHASHSEED\"] = str(seed)\n",
    "    np.random.seed(seed)\n",
    "\n",
    "# 시드 고정\n",
    "seed_everything(42)\n",
    "\n",
    "df = pd.read_csv('K-League-data.csv').drop(columns='Unnamed: 0')"
   ]
  },
  {
   "cell_type": "code",
   "execution_count": 2,
   "metadata": {},
   "outputs": [],
   "source": [
    "df = df.sort_values('시즌').sort_values('Rnd.')"
   ]
  },
  {
   "cell_type": "code",
   "execution_count": 3,
   "metadata": {},
   "outputs": [
    {
     "name": "stdout",
     "output_type": "stream",
     "text": [
      "(615, 122) (69, 122)\n",
      "(615,) (69,)\n"
     ]
    }
   ],
   "source": [
    "X = df.drop(columns=['대회', '홈 경기결과', '원정 경기결과']) # 필요 없거나 중복되는 열 제거\n",
    "X = pd.get_dummies(X, columns=['홈 팀', '원정 팀'], drop_first=False) # 문자 숫자로 바꾸기\n",
    "\n",
    "y = df['홈 경기결과']  # 홈 팀 기준으로 승부 예측. (홈 승? >> 원정 패, 홈 패? >> 원정 승리) // 원정 경기결과를 넣어도 예측 결과 동일\n",
    "\n",
    "# 경기 결과 (W, D, L)를 숫자로 \n",
    "le = LabelEncoder()\n",
    "y = le.fit_transform(y)\n",
    "\n",
    "# train/test 분리. 데이터셋의 개수가 작아서 9:1로 분할\n",
    "X_train, X_test, y_train, y_test = train_test_split(X, y, test_size=0.1, random_state=42, shuffle=False)\n",
    "\n",
    "# scaler = StandardScaler()  \n",
    "scaler = RobustScaler()\n",
    "X_train_scaled = scaler.fit_transform(X_train)\n",
    "X_test_scaled = scaler.transform(X_test)\n",
    "\n",
    "print(X_train.shape, X_test.shape)\n",
    "print(y_train.shape, y_test.shape)"
   ]
  },
  {
   "cell_type": "code",
   "execution_count": 4,
   "metadata": {},
   "outputs": [
    {
     "name": "stdout",
     "output_type": "stream",
     "text": [
      "Accuracy: 0.8115942028985508\n",
      "              precision    recall  f1-score   support\n",
      "\n",
      "           0       0.79      0.62      0.70        24\n",
      "           1       0.65      0.89      0.76        19\n",
      "           2       1.00      0.92      0.96        26\n",
      "\n",
      "    accuracy                           0.81        69\n",
      "   macro avg       0.81      0.81      0.80        69\n",
      "weighted avg       0.83      0.81      0.81        69\n",
      "\n",
      "[[15  9  0]\n",
      " [ 2 17  0]\n",
      " [ 2  0 24]]\n",
      "0.8115942028985508\n",
      "0.6195589088798608\n"
     ]
    }
   ],
   "source": [
    "# 다항 로지스틱 회귀\n",
    "\n",
    "model = LogisticRegression(random_state=42, solver='newton-cg',max_iter=500)\n",
    "model.fit(X_train_scaled, y_train)\n",
    "\n",
    "y_pred = model.predict(X_test_scaled)\n",
    "accuracy = accuracy_score(y_test, y_pred)\n",
    "print(f'Accuracy: {accuracy}')\n",
    "print(classification_report(y_test, y_pred))\n",
    "print(confusion_matrix(y_test, y_pred))\n",
    "\n",
    "f1 = f1_score(y_test, y_pred, average='micro')\n",
    "r2 = r2_score(y_test, y_pred)\n",
    "print(f1)\n",
    "print(r2)"
   ]
  },
  {
   "cell_type": "code",
   "execution_count": 5,
   "metadata": {},
   "outputs": [
    {
     "name": "stdout",
     "output_type": "stream",
     "text": [
      "Accuracy: 0.6666666666666666\n",
      "              precision    recall  f1-score   support\n",
      "\n",
      "           0       0.56      0.42      0.48        24\n",
      "           1       0.50      0.63      0.56        19\n",
      "           2       0.89      0.92      0.91        26\n",
      "\n",
      "    accuracy                           0.67        69\n",
      "   macro avg       0.65      0.66      0.65        69\n",
      "weighted avg       0.67      0.67      0.66        69\n",
      "\n",
      "[[10 12  2]\n",
      " [ 6 12  1]\n",
      " [ 2  0 24]]\n",
      "0.6666666666666666\n",
      "0.2991874637260593\n"
     ]
    }
   ],
   "source": [
    "# 다층신경망\n",
    "\n",
    "from sklearn.neural_network import MLPClassifier\n",
    "\n",
    "model = MLPClassifier(random_state=42, max_iter=500)\n",
    "model.fit(X_train_scaled, y_train)\n",
    "\n",
    "y_pred = model.predict(X_test_scaled)\n",
    "accuracy = accuracy_score(y_test, y_pred)\n",
    "print(f'Accuracy: {accuracy}')\n",
    "print(classification_report(y_test, y_pred))\n",
    "print(confusion_matrix(y_test, y_pred))\n",
    "\n",
    "f1 = f1_score(y_test, y_pred, average='micro')\n",
    "r2 = r2_score(y_test, y_pred)\n",
    "print(f1)\n",
    "print(r2)"
   ]
  },
  {
   "cell_type": "code",
   "execution_count": 6,
   "metadata": {},
   "outputs": [
    {
     "name": "stdout",
     "output_type": "stream",
     "text": [
      "Accuracy: 0.8405797101449275\n",
      "              precision    recall  f1-score   support\n",
      "\n",
      "           0       0.78      0.75      0.77        24\n",
      "           1       0.76      0.84      0.80        19\n",
      "           2       0.96      0.92      0.94        26\n",
      "\n",
      "    accuracy                           0.84        69\n",
      "   macro avg       0.83      0.84      0.84        69\n",
      "weighted avg       0.84      0.84      0.84        69\n",
      "\n",
      "[[18  5  1]\n",
      " [ 3 16  0]\n",
      " [ 2  0 24]]\n",
      "0.8405797101449275\n",
      "0.5995356935577483\n"
     ]
    }
   ],
   "source": [
    "# LDA\n",
    "\n",
    "from sklearn.discriminant_analysis import LinearDiscriminantAnalysis\n",
    "\n",
    "model = LinearDiscriminantAnalysis()\n",
    "model.fit(X_train_scaled, y_train)\n",
    "\n",
    "# 모델 평가\n",
    "y_pred = model.predict(X_test_scaled)\n",
    "accuracy = accuracy_score(y_test, y_pred)\n",
    "print(f'Accuracy: {accuracy}')\n",
    "print(classification_report(y_test, y_pred))\n",
    "print(confusion_matrix(y_test, y_pred))\n",
    "\n",
    "f1 = f1_score(y_test, y_pred, average='micro')\n",
    "r2 = r2_score(y_test, y_pred)\n",
    "print(f1)\n",
    "print(r2)"
   ]
  },
  {
   "cell_type": "code",
   "execution_count": 7,
   "metadata": {},
   "outputs": [
    {
     "name": "stdout",
     "output_type": "stream",
     "text": [
      "Accuracy: 0.9420289855072463\n",
      "              precision    recall  f1-score   support\n",
      "\n",
      "           0       0.86      1.00      0.92        24\n",
      "           1       1.00      0.89      0.94        19\n",
      "           2       1.00      0.92      0.96        26\n",
      "\n",
      "    accuracy                           0.94        69\n",
      "   macro avg       0.95      0.94      0.94        69\n",
      "weighted avg       0.95      0.94      0.94        69\n",
      "\n",
      "[[24  0  0]\n",
      " [ 2 17  0]\n",
      " [ 2  0 24]]\n",
      "0.9420289855072463\n",
      "0.7997678467788741\n"
     ]
    }
   ],
   "source": [
    "# SVM\n",
    "\n",
    "from sklearn import svm\n",
    "\n",
    "model = svm.SVC(random_state=42, kernel='linear')\n",
    "model.fit(X_train_scaled, y_train)\n",
    "\n",
    "# 모델 평가\n",
    "y_pred = model.predict(X_test_scaled)\n",
    "accuracy = accuracy_score(y_test, y_pred)\n",
    "print(f'Accuracy: {accuracy}')\n",
    "print(classification_report(y_test, y_pred))\n",
    "print(confusion_matrix(y_test, y_pred))\n",
    "\n",
    "f1 = f1_score(y_test, y_pred, average='micro')\n",
    "r2 = r2_score(y_test, y_pred)\n",
    "print(f1)\n",
    "print(r2)"
   ]
  },
  {
   "cell_type": "code",
   "execution_count": 8,
   "metadata": {},
   "outputs": [
    {
     "name": "stdout",
     "output_type": "stream",
     "text": [
      "Accuracy: 0.9855072463768116\n",
      "              precision    recall  f1-score   support\n",
      "\n",
      "           0       1.00      0.96      0.98        24\n",
      "           1       1.00      1.00      1.00        19\n",
      "           2       0.96      1.00      0.98        26\n",
      "\n",
      "    accuracy                           0.99        69\n",
      "   macro avg       0.99      0.99      0.99        69\n",
      "weighted avg       0.99      0.99      0.99        69\n",
      "\n",
      "[[23  0  1]\n",
      " [ 0 19  0]\n",
      " [ 0  0 26]]\n",
      "       Feature  Importance\n",
      "1         홈 득점    0.486231\n",
      "48       원정 득점    0.451148\n",
      "79     원정 클리어링    0.007746\n",
      "30     홈 경합 공중    0.004266\n",
      "77    원정 경합 공중    0.004257\n",
      "40        홈 경고    0.003323\n",
      "4      홈 유효 슈팅    0.002805\n",
      "24       홈 롱패스    0.002729\n",
      "72    원정 중거리패스    0.002528\n",
      "68  원정 공격진영 패스    0.002318\n",
      "0.9855072463768116\n",
      "0.9199071387115496\n"
     ]
    }
   ],
   "source": [
    "# 그래디언트부스팅\n",
    "\n",
    "from sklearn.ensemble import GradientBoostingClassifier\n",
    "\n",
    "model = GradientBoostingClassifier(random_state=42, max_depth=3, n_estimators=500, )\n",
    "model.fit(X_train_scaled, y_train)\n",
    "\n",
    "# 모델 평가\n",
    "y_pred = model.predict(X_test_scaled)\n",
    "accuracy = accuracy_score(y_test, y_pred)\n",
    "print(f'Accuracy: {accuracy}')\n",
    "print(classification_report(y_test, y_pred))\n",
    "print(confusion_matrix(y_test, y_pred))\n",
    "\n",
    "\n",
    "feature_importances = model.feature_importances_\n",
    "feature_importance_df = pd.DataFrame({'Feature': X.columns, 'Importance': feature_importances})\n",
    "feature_importance_df = feature_importance_df.sort_values(by='Importance', ascending=False)\n",
    "# display(feature_importance_df)\n",
    "print(feature_importance_df[:10])\n",
    "\n",
    "f1 = f1_score(y_test, y_pred, average='micro')\n",
    "r2 = r2_score(y_test, y_pred)\n",
    "print(f1)\n",
    "print(r2)"
   ]
  },
  {
   "cell_type": "code",
   "execution_count": 9,
   "metadata": {},
   "outputs": [
    {
     "name": "stderr",
     "output_type": "stream",
     "text": [
      "c:\\Users\\HONG\\miniconda3\\envs\\zxcv\\lib\\site-packages\\sklearn\\ensemble\\_weight_boosting.py:527: FutureWarning: The SAMME.R algorithm (the default) is deprecated and will be removed in 1.6. Use the SAMME algorithm to circumvent this warning.\n",
      "  warnings.warn(\n"
     ]
    },
    {
     "name": "stdout",
     "output_type": "stream",
     "text": [
      "Accuracy: 0.5942028985507246\n",
      "              precision    recall  f1-score   support\n",
      "\n",
      "           0       0.43      0.50      0.46        24\n",
      "           1       0.73      0.58      0.65        19\n",
      "           2       0.69      0.69      0.69        26\n",
      "\n",
      "    accuracy                           0.59        69\n",
      "   macro avg       0.62      0.59      0.60        69\n",
      "weighted avg       0.61      0.59      0.60        69\n",
      "\n",
      "[[12  4  8]\n",
      " [ 8 11  0]\n",
      " [ 8  0 18]]\n",
      "0.5942028985507246\n",
      "-0.5217643644805567\n"
     ]
    }
   ],
   "source": [
    "# 에이다 부스트\n",
    "\n",
    "from sklearn.ensemble import AdaBoostClassifier\n",
    "\n",
    "model = AdaBoostClassifier(random_state=42,)\n",
    "model.fit(X_train_scaled, y_train)\n",
    "\n",
    "# 모델 평가\n",
    "y_pred = model.predict(X_test_scaled)\n",
    "accuracy = accuracy_score(y_test, y_pred)\n",
    "print(f'Accuracy: {accuracy}')\n",
    "print(classification_report(y_test, y_pred))\n",
    "print(confusion_matrix(y_test, y_pred))\n",
    "\n",
    "feature_importances = model.feature_importances_\n",
    "feature_importance_df = pd.DataFrame({'Feature': X.columns, 'Importance': feature_importances})\n",
    "feature_importance_df = feature_importance_df.sort_values(by='Importance', ascending=False)\n",
    "# display(feature_importance_df)\n",
    "feature_importance_df[:10]\n",
    "\n",
    "f1 = f1_score(y_test, y_pred, average='micro')\n",
    "r2 = r2_score(y_test, y_pred)\n",
    "print(f1)\n",
    "print(r2)"
   ]
  },
  {
   "cell_type": "code",
   "execution_count": 10,
   "metadata": {},
   "outputs": [
    {
     "name": "stdout",
     "output_type": "stream",
     "text": [
      "Accuracy: 0.9710144927536232\n",
      "              precision    recall  f1-score   support\n",
      "\n",
      "           0       0.96      0.96      0.96        24\n",
      "           1       0.95      0.95      0.95        19\n",
      "           2       1.00      1.00      1.00        26\n",
      "\n",
      "    accuracy                           0.97        69\n",
      "   macro avg       0.97      0.97      0.97        69\n",
      "weighted avg       0.97      0.97      0.97        69\n",
      "\n",
      "[[23  1  0]\n",
      " [ 1 18  0]\n",
      " [ 0  0 26]]\n",
      "0.9710144927536232\n",
      "0.9599535693557748\n"
     ]
    }
   ],
   "source": [
    "# XgBoost\n",
    "from xgboost import XGBClassifier\n",
    "from sklearn.metrics import accuracy_score\n",
    "\n",
    "model = XGBClassifier()\n",
    "\n",
    "model.fit(X_train_scaled, y_train)\n",
    "\n",
    "y_pred = model.predict(X_test_scaled)\n",
    "\n",
    "accuracy = accuracy_score(y_test, y_pred)\n",
    "print(f'Accuracy: {accuracy}')\n",
    "print(classification_report(y_test, y_pred))\n",
    "print(confusion_matrix(y_test, y_pred))\n",
    "\n",
    "\n",
    "feature_importances = model.feature_importances_\n",
    "feature_importance_df = pd.DataFrame({'Feature': X.columns, 'Importance': feature_importances})\n",
    "feature_importance_df = feature_importance_df.sort_values(by='Importance', ascending=False)\n",
    "# display(feature_importance_df)\n",
    "feature_importance_df[:10]\n",
    "\n",
    "f1 = f1_score(y_test, y_pred, average='micro')\n",
    "r2 = r2_score(y_test, y_pred)\n",
    "print(f1)\n",
    "print(r2)"
   ]
  },
  {
   "cell_type": "code",
   "execution_count": 11,
   "metadata": {},
   "outputs": [
    {
     "name": "stdout",
     "output_type": "stream",
     "text": [
      "Learning rate set to 0.077189\n",
      "0:\tlearn: 0.9908774\ttotal: 160ms\tremaining: 2m 39s\n",
      "100:\tlearn: 0.1760879\ttotal: 543ms\tremaining: 4.83s\n",
      "200:\tlearn: 0.1111060\ttotal: 918ms\tremaining: 3.65s\n",
      "300:\tlearn: 0.0836871\ttotal: 1.29s\tremaining: 2.99s\n",
      "400:\tlearn: 0.0658614\ttotal: 1.63s\tremaining: 2.43s\n",
      "500:\tlearn: 0.0520345\ttotal: 1.99s\tremaining: 1.98s\n",
      "600:\tlearn: 0.0401951\ttotal: 2.36s\tremaining: 1.56s\n",
      "700:\tlearn: 0.0347656\ttotal: 2.74s\tremaining: 1.17s\n",
      "800:\tlearn: 0.0308875\ttotal: 3.2s\tremaining: 796ms\n",
      "900:\tlearn: 0.0248042\ttotal: 3.64s\tremaining: 400ms\n",
      "999:\tlearn: 0.0218145\ttotal: 4.03s\tremaining: 0us\n",
      "Accuracy: 0.9855072463768116\n",
      "              precision    recall  f1-score   support\n",
      "\n",
      "           0       1.00      0.96      0.98        24\n",
      "           1       1.00      1.00      1.00        19\n",
      "           2       0.96      1.00      0.98        26\n",
      "\n",
      "    accuracy                           0.99        69\n",
      "   macro avg       0.99      0.99      0.99        69\n",
      "weighted avg       0.99      0.99      0.99        69\n",
      "\n",
      "[[23  0  1]\n",
      " [ 0 19  0]\n",
      " [ 0  0 26]]\n",
      "0.9855072463768116\n",
      "0.9199071387115496\n"
     ]
    }
   ],
   "source": [
    "# CatBoost\n",
    "from catboost import CatBoostClassifier\n",
    "\n",
    "\n",
    "model = CatBoostClassifier(random_seed=42, metric_period=100, depth=4)\n",
    "\n",
    "model.fit(X_train_scaled, y_train)  # Specify categorical features\n",
    "\n",
    "y_pred = model.predict(X_test_scaled)\n",
    "\n",
    "accuracy = accuracy_score(y_test, y_pred)\n",
    "print(f'Accuracy: {accuracy}')\n",
    "print(classification_report(y_test, y_pred))\n",
    "print(confusion_matrix(y_test, y_pred))\n",
    "\n",
    "feature_importances = model.feature_importances_\n",
    "feature_importance_df = pd.DataFrame({'Feature': X.columns, 'Importance': feature_importances})\n",
    "feature_importance_df = feature_importance_df.sort_values(by='Importance', ascending=False)\n",
    "# display(feature_importance_df)\n",
    "feature_importance_df[:10]\n",
    "\n",
    "f1 = f1_score(y_test, y_pred, average='micro')\n",
    "r2 = r2_score(y_test, y_pred)\n",
    "print(f1)\n",
    "print(r2)"
   ]
  },
  {
   "cell_type": "markdown",
   "metadata": {},
   "source": [
    "# 변수선택법 적용"
   ]
  },
  {
   "cell_type": "code",
   "execution_count": 12,
   "metadata": {},
   "outputs": [
    {
     "data": {
      "image/png": "[encoded data removed]",
      "text/plain": [
       "<Figure size 1800x1000 with 1 Axes>"
      ]
     },
     "metadata": {},
     "output_type": "display_data"
    },
    {
     "data": {
      "text/plain": [
       "['홈 득점',\n",
       " '원정 득점',\n",
       " '홈 경고',\n",
       " '원정 코너킥',\n",
       " '원정 차단',\n",
       " '원정 키패스',\n",
       " '원정 탈압박',\n",
       " '원정 팀_daejeon']"
      ]
     },
     "execution_count": 12,
     "metadata": {},
     "output_type": "execute_result"
    }
   ],
   "source": [
    "def stepwise_feature_selection(X_train, y_train, variables=X_train.columns.tolist() ):\n",
    "    import statsmodels.api as sm\n",
    "    import matplotlib.pyplot as plt\n",
    "    import warnings\n",
    "    warnings.filterwarnings(\"ignore\")\n",
    "    plt.rcParams['font.family'] = 'Malgun Gothic'\n",
    "\n",
    "    \n",
    "    y = y_train ## 반응 변수\n",
    "\n",
    "    selected_variables = [] ## 선택된 변수들\n",
    "    sl_enter = 0.05\n",
    "    sl_remove = 0.05\n",
    "    \n",
    "    sv_per_step = [] ## 각 스텝별로 선택된 변수들\n",
    "    adjusted_r_squared = [] ## 각 스텝별 수정된 결정계수\n",
    "    steps = [] ## 스텝\n",
    "    step = 0\n",
    "    while len(variables) > 0:\n",
    "        remainder = list(set(variables) - set(selected_variables))\n",
    "        pval = pd.Series(index=remainder) ## 변수의 p-value\n",
    "        ## 기존에 포함된 변수와 새로운 변수 하나씩 돌아가면서 \n",
    "        ## 선형 모형을 적합한다.\n",
    "        for col in remainder: \n",
    "            \n",
    "            X = X_train[selected_variables+[col]]\n",
    "            # print(X)\n",
    "            X = sm.add_constant(X)\n",
    "            # print(type(X))\n",
    "            model = sm.OLS(y,X).fit(disp=0)\n",
    "            pval[col] = model.pvalues[col]\n",
    "    \n",
    "        min_pval = pval.min()\n",
    "        if min_pval < sl_enter: ## 최소 p-value 값이 기준 값보다 작으면 포함\n",
    "            selected_variables.append(pval.idxmin())\n",
    "            ## 선택된 변수들에대해서\n",
    "            ## 어떤 변수를 제거할지 고른다.\n",
    "            while len(selected_variables) > 0:\n",
    "                selected_X = X_train[selected_variables]\n",
    "                selected_X = sm.add_constant(selected_X)\n",
    "                selected_pval = sm.OLS(y,selected_X).fit(disp=0).pvalues[1:] ## 절편항의 p-value는 뺀다\n",
    "                max_pval = selected_pval.max()\n",
    "                if max_pval >= sl_remove: ## 최대 p-value값이 기준값보다 크거나 같으면 제외\n",
    "                    remove_variable = selected_pval.idxmax()\n",
    "                    selected_variables.remove(remove_variable)\n",
    "                else:\n",
    "                    break\n",
    "            \n",
    "            step += 1\n",
    "            steps.append(step)\n",
    "            adj_r_squared = sm.OLS(y,sm.add_constant(X_train[selected_variables])).fit(disp=0).rsquared_adj\n",
    "            adjusted_r_squared.append(adj_r_squared)\n",
    "            sv_per_step.append(selected_variables.copy())\n",
    "        else:\n",
    "            break\n",
    "\n",
    "    fig = plt.figure(figsize=(18,10))\n",
    "    fig.set_facecolor('white')\n",
    "    \n",
    "    font_size = 15\n",
    "    plt.xticks(steps,[f'step {s}\\n'+'\\n'.join(sv_per_step[i]) for i,s in enumerate(steps)], fontsize=12)\n",
    "    plt.plot(steps,adjusted_r_squared, marker='o')\n",
    "      \n",
    "    plt.ylabel('Adjusted R Squared',fontsize=font_size)\n",
    "    plt.grid(True)\n",
    "    plt.show()\n",
    "\n",
    "    return selected_variables\n",
    "    \n",
    "\n",
    "\n",
    "# X_train에서 불리언 열만 선택\n",
    "boolean_columns = X_train.select_dtypes(include='bool').columns\n",
    "# 선택된 불리언 열을 정수(0 또는 1)로 변환\n",
    "X_train[boolean_columns] = X_train[boolean_columns].astype(int)\n",
    "\n",
    "selected_variables = stepwise_feature_selection(X_train, y_train)\n",
    "selected_variables"
   ]
  },
  {
   "cell_type": "code",
   "execution_count": 13,
   "metadata": {},
   "outputs": [
    {
     "name": "stdout",
     "output_type": "stream",
     "text": [
      "(615, 8) (69, 8)\n",
      "(615,) (69,)\n"
     ]
    }
   ],
   "source": [
    "selected_X_train = X_train[selected_variables]\n",
    "selected_X_test = X_test[selected_variables]\n",
    "\n",
    "# 확인\n",
    "print(selected_X_train.shape, selected_X_test.shape)\n",
    "print(y_train.shape, y_test.shape)\n",
    "\n",
    "scaler = RobustScaler()\n",
    "selected_X_train_scaled = scaler.fit_transform(selected_X_train)\n",
    "selected_X_test_scaled = scaler.transform(selected_X_test)"
   ]
  },
  {
   "cell_type": "code",
   "execution_count": 14,
   "metadata": {},
   "outputs": [
    {
     "name": "stdout",
     "output_type": "stream",
     "text": [
      "Accuracy: 0.9855072463768116\n",
      "              precision    recall  f1-score   support\n",
      "\n",
      "           0       1.00      0.96      0.98        24\n",
      "           1       0.95      1.00      0.97        19\n",
      "           2       1.00      1.00      1.00        26\n",
      "\n",
      "    accuracy                           0.99        69\n",
      "   macro avg       0.98      0.99      0.98        69\n",
      "weighted avg       0.99      0.99      0.99        69\n",
      "\n",
      "[[23  1  0]\n",
      " [ 0 19  0]\n",
      " [ 0  0 26]]\n",
      "0.9855072463768116\n",
      "0.9799767846778874\n"
     ]
    }
   ],
   "source": [
    "# 변수 선택법 적용한 다항 로지스틱 회귀\n",
    "\n",
    "model = LogisticRegression(random_state=42, solver='newton-cg', max_iter=500)\n",
    "model.fit(selected_X_train_scaled, y_train)\n",
    "\n",
    "y_pred = model.predict(selected_X_test_scaled)\n",
    "accuracy = accuracy_score(y_test, y_pred)\n",
    "print(f'Accuracy: {accuracy}')\n",
    "print(classification_report(y_test, y_pred))\n",
    "print(confusion_matrix(y_test, y_pred))\n",
    "\n",
    "f1 = f1_score(y_test, y_pred, average='micro')\n",
    "r2 = r2_score(y_test, y_pred)\n",
    "print(f1)\n",
    "print(r2)"
   ]
  },
  {
   "cell_type": "code",
   "execution_count": 15,
   "metadata": {},
   "outputs": [
    {
     "name": "stdout",
     "output_type": "stream",
     "text": [
      "Accuracy: 0.9855072463768116\n",
      "              precision    recall  f1-score   support\n",
      "\n",
      "           0       1.00      0.96      0.98        24\n",
      "           1       0.95      1.00      0.97        19\n",
      "           2       1.00      1.00      1.00        26\n",
      "\n",
      "    accuracy                           0.99        69\n",
      "   macro avg       0.98      0.99      0.98        69\n",
      "weighted avg       0.99      0.99      0.99        69\n",
      "\n",
      "[[23  1  0]\n",
      " [ 0 19  0]\n",
      " [ 0  0 26]]\n",
      "0.9855072463768116\n",
      "0.9799767846778874\n"
     ]
    }
   ],
   "source": [
    "# 변수 선택법 적용한 다층신경망\n",
    "\n",
    "from sklearn.neural_network import MLPClassifier\n",
    "\n",
    "model = MLPClassifier(random_state=42, max_iter=500)\n",
    "model.fit(selected_X_train_scaled, y_train)\n",
    "\n",
    "y_pred = model.predict(selected_X_test_scaled)\n",
    "accuracy = accuracy_score(y_test, y_pred)\n",
    "print(f'Accuracy: {accuracy}')\n",
    "print(classification_report(y_test, y_pred))\n",
    "print(confusion_matrix(y_test, y_pred))\n",
    "\n",
    "f1 = f1_score(y_test, y_pred, average='micro')\n",
    "r2 = r2_score(y_test, y_pred)\n",
    "print(f1)\n",
    "print(r2)"
   ]
  },
  {
   "cell_type": "code",
   "execution_count": 16,
   "metadata": {},
   "outputs": [
    {
     "name": "stdout",
     "output_type": "stream",
     "text": [
      "Accuracy: 0.9710144927536232\n",
      "              precision    recall  f1-score   support\n",
      "\n",
      "           0       0.96      0.96      0.96        24\n",
      "           1       0.95      0.95      0.95        19\n",
      "           2       1.00      1.00      1.00        26\n",
      "\n",
      "    accuracy                           0.97        69\n",
      "   macro avg       0.97      0.97      0.97        69\n",
      "weighted avg       0.97      0.97      0.97        69\n",
      "\n",
      "[[23  1  0]\n",
      " [ 1 18  0]\n",
      " [ 0  0 26]]\n",
      "0.9710144927536232\n",
      "0.9599535693557748\n"
     ]
    }
   ],
   "source": [
    "# 변수 선택법 적용한 LDA\n",
    "\n",
    "from sklearn.discriminant_analysis import LinearDiscriminantAnalysis\n",
    "\n",
    "model = LinearDiscriminantAnalysis()\n",
    "model.fit(selected_X_train_scaled, y_train)\n",
    "\n",
    "# 모델 평가\n",
    "y_pred = model.predict(selected_X_test_scaled)\n",
    "accuracy = accuracy_score(y_test, y_pred)\n",
    "print(f'Accuracy: {accuracy}')\n",
    "print(classification_report(y_test, y_pred))\n",
    "print(confusion_matrix(y_test, y_pred))\n",
    "\n",
    "f1 = f1_score(y_test, y_pred, average='micro')\n",
    "r2 = r2_score(y_test, y_pred)\n",
    "print(f1)\n",
    "print(r2)"
   ]
  },
  {
   "cell_type": "code",
   "execution_count": 17,
   "metadata": {},
   "outputs": [
    {
     "name": "stdout",
     "output_type": "stream",
     "text": [
      "Accuracy: 1.0\n",
      "              precision    recall  f1-score   support\n",
      "\n",
      "           0       1.00      1.00      1.00        24\n",
      "           1       1.00      1.00      1.00        19\n",
      "           2       1.00      1.00      1.00        26\n",
      "\n",
      "    accuracy                           1.00        69\n",
      "   macro avg       1.00      1.00      1.00        69\n",
      "weighted avg       1.00      1.00      1.00        69\n",
      "\n",
      "[[24  0  0]\n",
      " [ 0 19  0]\n",
      " [ 0  0 26]]\n",
      "1.0\n",
      "1.0\n"
     ]
    }
   ],
   "source": [
    "# 변수 선택법 적용 후 svm\n",
    "\n",
    "from sklearn import svm\n",
    "\n",
    "model = svm.SVC(random_state=42, kernel='linear')\n",
    "model.fit(selected_X_train_scaled, y_train)\n",
    "\n",
    "# 모델 평가\n",
    "y_pred = model.predict(selected_X_test_scaled)\n",
    "accuracy = accuracy_score(y_test, y_pred)\n",
    "print(f'Accuracy: {accuracy}')\n",
    "print(classification_report(y_test, y_pred))\n",
    "print(confusion_matrix(y_test, y_pred))\n",
    "\n",
    "f1 = f1_score(y_test, y_pred, average='micro')\n",
    "r2 = r2_score(y_test, y_pred)\n",
    "print(f1)\n",
    "print(r2)"
   ]
  },
  {
   "cell_type": "code",
   "execution_count": 18,
   "metadata": {},
   "outputs": [
    {
     "name": "stdout",
     "output_type": "stream",
     "text": [
      "Accuracy: 0.9710144927536232\n",
      "              precision    recall  f1-score   support\n",
      "\n",
      "           0       1.00      0.92      0.96        24\n",
      "           1       0.95      1.00      0.97        19\n",
      "           2       0.96      1.00      0.98        26\n",
      "\n",
      "    accuracy                           0.97        69\n",
      "   macro avg       0.97      0.97      0.97        69\n",
      "weighted avg       0.97      0.97      0.97        69\n",
      "\n",
      "[[22  1  1]\n",
      " [ 0 19  0]\n",
      " [ 0  0 26]]\n",
      "0.9710144927536232\n",
      "0.899883923389437\n"
     ]
    }
   ],
   "source": [
    "# 변수 선택법 적용한 그래디언트부스팅\n",
    "\n",
    "from sklearn.ensemble import GradientBoostingClassifier\n",
    "\n",
    "model = GradientBoostingClassifier(random_state=42, max_depth=3, n_estimators=500, )\n",
    "model.fit(selected_X_train_scaled, y_train)\n",
    "\n",
    "# 모델 평가\n",
    "y_pred = model.predict(selected_X_test_scaled)\n",
    "accuracy = accuracy_score(y_test, y_pred)\n",
    "print(f'Accuracy: {accuracy}')\n",
    "print(classification_report(y_test, y_pred))\n",
    "print(confusion_matrix(y_test, y_pred))\n",
    "\n",
    "\n",
    "feature_importances = model.feature_importances_\n",
    "feature_importance_df = pd.DataFrame({'Feature': selected_X_train.columns, 'Importance': feature_importances})\n",
    "feature_importance_df = feature_importance_df.sort_values(by='Importance', ascending=False)\n",
    "# display(feature_importance_df)\n",
    "feature_importance_df[:]\n",
    "\n",
    "f1 = f1_score(y_test, y_pred, average='micro')\n",
    "r2 = r2_score(y_test, y_pred)\n",
    "print(f1)\n",
    "print(r2)"
   ]
  },
  {
   "cell_type": "code",
   "execution_count": 19,
   "metadata": {},
   "outputs": [
    {
     "name": "stdout",
     "output_type": "stream",
     "text": [
      "Accuracy: 0.5362318840579711\n",
      "              precision    recall  f1-score   support\n",
      "\n",
      "           0       0.32      0.29      0.30        24\n",
      "           1       0.55      0.58      0.56        19\n",
      "           2       0.70      0.73      0.72        26\n",
      "\n",
      "    accuracy                           0.54        69\n",
      "   macro avg       0.52      0.53      0.53        69\n",
      "weighted avg       0.53      0.54      0.53        69\n",
      "\n",
      "[[ 7  9  8]\n",
      " [ 8 11  0]\n",
      " [ 7  0 19]]\n",
      "0.5362318840579711\n",
      "-0.5417875798026695\n"
     ]
    }
   ],
   "source": [
    "# 변수 선택법 적용한 에이다 부스트\n",
    "\n",
    "from sklearn.ensemble import AdaBoostClassifier\n",
    "\n",
    "model = AdaBoostClassifier(random_state=42,)\n",
    "model.fit(selected_X_train_scaled, y_train)\n",
    "\n",
    "# 모델 평가\n",
    "y_pred = model.predict(selected_X_test_scaled)\n",
    "accuracy = accuracy_score(y_test, y_pred)\n",
    "print(f'Accuracy: {accuracy}')\n",
    "print(classification_report(y_test, y_pred))\n",
    "print(confusion_matrix(y_test, y_pred))\n",
    "\n",
    "feature_importances = model.feature_importances_\n",
    "feature_importance_df = pd.DataFrame({'Feature': selected_X_train.columns, 'Importance': feature_importances})\n",
    "feature_importance_df = feature_importance_df.sort_values(by='Importance', ascending=False)\n",
    "# display(feature_importance_df)\n",
    "feature_importance_df[:]\n",
    "\n",
    "f1 = f1_score(y_test, y_pred, average='micro')\n",
    "r2 = r2_score(y_test, y_pred)\n",
    "print(f1)\n",
    "print(r2)"
   ]
  },
  {
   "cell_type": "code",
   "execution_count": 20,
   "metadata": {},
   "outputs": [
    {
     "name": "stdout",
     "output_type": "stream",
     "text": [
      "Accuracy: 0.9855072463768116\n",
      "              precision    recall  f1-score   support\n",
      "\n",
      "           0       1.00      0.96      0.98        24\n",
      "           1       0.95      1.00      0.97        19\n",
      "           2       1.00      1.00      1.00        26\n",
      "\n",
      "    accuracy                           0.99        69\n",
      "   macro avg       0.98      0.99      0.98        69\n",
      "weighted avg       0.99      0.99      0.99        69\n",
      "\n",
      "[[23  1  0]\n",
      " [ 0 19  0]\n",
      " [ 0  0 26]]\n",
      "0.9855072463768116\n",
      "0.9799767846778874\n"
     ]
    }
   ],
   "source": [
    "# 변수 선택법 적용한 XgBoost\n",
    "model = XGBClassifier()\n",
    "\n",
    "model.fit(selected_X_train_scaled, y_train)\n",
    "\n",
    "y_pred = model.predict(selected_X_test_scaled)\n",
    "\n",
    "accuracy = accuracy_score(y_test, y_pred)\n",
    "print(f'Accuracy: {accuracy}')\n",
    "print(classification_report(y_test, y_pred))\n",
    "print(confusion_matrix(y_test, y_pred))\n",
    "\n",
    "\n",
    "feature_importances = model.feature_importances_\n",
    "feature_importance_df = pd.DataFrame({'Feature': selected_X_train.columns, 'Importance': feature_importances})\n",
    "feature_importance_df = feature_importance_df.sort_values(by='Importance', ascending=False)\n",
    "# display(feature_importance_df)\n",
    "feature_importance_df[:]\n",
    "\n",
    "f1 = f1_score(y_test, y_pred, average='micro')\n",
    "r2 = r2_score(y_test, y_pred)\n",
    "print(f1)\n",
    "print(r2)"
   ]
  },
  {
   "cell_type": "code",
   "execution_count": 21,
   "metadata": {},
   "outputs": [
    {
     "name": "stdout",
     "output_type": "stream",
     "text": [
      "Learning rate set to 0.077189\n",
      "0:\tlearn: 1.0378968\ttotal: 675us\tremaining: 675ms\n",
      "100:\tlearn: 0.2246633\ttotal: 39.6ms\tremaining: 352ms\n",
      "200:\tlearn: 0.1472765\ttotal: 79.5ms\tremaining: 316ms\n",
      "300:\tlearn: 0.1171562\ttotal: 115ms\tremaining: 266ms\n",
      "400:\tlearn: 0.0989297\ttotal: 149ms\tremaining: 223ms\n",
      "500:\tlearn: 0.0860974\ttotal: 186ms\tremaining: 186ms\n",
      "600:\tlearn: 0.0759882\ttotal: 222ms\tremaining: 148ms\n",
      "700:\tlearn: 0.0669968\ttotal: 257ms\tremaining: 110ms\n",
      "800:\tlearn: 0.0609659\ttotal: 298ms\tremaining: 74ms\n",
      "900:\tlearn: 0.0562326\ttotal: 340ms\tremaining: 37.4ms\n",
      "999:\tlearn: 0.0511979\ttotal: 377ms\tremaining: 0us\n",
      "Accuracy: 0.9855072463768116\n",
      "              precision    recall  f1-score   support\n",
      "\n",
      "           0       1.00      0.96      0.98        24\n",
      "           1       0.95      1.00      0.97        19\n",
      "           2       1.00      1.00      1.00        26\n",
      "\n",
      "    accuracy                           0.99        69\n",
      "   macro avg       0.98      0.99      0.98        69\n",
      "weighted avg       0.99      0.99      0.99        69\n",
      "\n",
      "[[23  1  0]\n",
      " [ 0 19  0]\n",
      " [ 0  0 26]]\n",
      "0.9855072463768116\n",
      "0.9799767846778874\n"
     ]
    }
   ],
   "source": [
    "# 변수 선택법 적용한 CatBoost\n",
    "\n",
    "\n",
    "model = CatBoostClassifier(random_seed=42, metric_period=100, depth=2)\n",
    "\n",
    "model.fit(selected_X_train_scaled, y_train)  \n",
    "\n",
    "y_pred = model.predict(selected_X_test_scaled)\n",
    "\n",
    "accuracy = accuracy_score(y_test, y_pred)\n",
    "print(f'Accuracy: {accuracy}')\n",
    "print(classification_report(y_test, y_pred))\n",
    "print(confusion_matrix(y_test, y_pred))\n",
    "\n",
    "feature_importances = model.feature_importances_\n",
    "feature_importance_df = pd.DataFrame({'Feature': selected_X_train.columns, 'Importance': feature_importances})\n",
    "feature_importance_df = feature_importance_df.sort_values(by='Importance', ascending=False)\n",
    "# display(feature_importance_df)\n",
    "feature_importance_df[:]\n",
    "\n",
    "f1 = f1_score(y_test, y_pred, average='micro')\n",
    "r2 = r2_score(y_test, y_pred)\n",
    "print(f1)\n",
    "print(r2)"
   ]
  },
  {
   "cell_type": "code",
   "execution_count": null,
   "metadata": {},
   "outputs": [],
   "source": []
  },
  {
   "cell_type": "code",
   "execution_count": null,
   "metadata": {},
   "outputs": [],
   "source": []
  },
  {
   "cell_type": "code",
   "execution_count": null,
   "metadata": {},
   "outputs": [],
   "source": []
  },
  {
   "cell_type": "code",
   "execution_count": null,
   "metadata": {},
   "outputs": [],
   "source": []
  }
 ],
 "metadata": {
  "kernelspec": {
   "display_name": "zxcv",
   "language": "python",
   "name": "python3"
  },
  "language_info": {
   "codemirror_mode": {
    "name": "ipython",
    "version": 3
   },
   "file_extension": ".py",
   "mimetype": "text/x-python",
   "name": "python",
   "nbconvert_exporter": "python",
   "pygments_lexer": "ipython3",
   "version": "3.9.19"
  }
 },
 "nbformat": 4,
 "nbformat_minor": 2
}
